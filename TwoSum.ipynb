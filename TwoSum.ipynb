{
 "cells": [
  {
   "cell_type": "code",
   "execution_count": null,
   "outputs": [],
   "source": [
    "class Solution:\n",
    "    def twoSum(self, nums: List[int], target: int) -> List[int]:\n",
    "        pair_idx = {}\n",
    "        for index, num in enumerate(nums):\n",
    "            if target - num in pair_idx:\n",
    "                return [index, pair_idx[target - num]]\n",
    "            pair_idx[num] = index"
   ],
   "metadata": {
    "collapsed": false
   },
   "id": "initial_id"
  },
  {
   "cell_type": "markdown",
   "source": [
    "Two Sum\n",
    "https://leetcode.com/problems/two-sum/\n",
    "\n",
    "Given an array of integers nums and an integer target, return indices of the two numbers such that they add up to target.\n",
    "You may assume that each input would have exactly one solution, and you may not use the same element twice.\n",
    "You can return the answer in any order.\n",
    "\n",
    " \n",
    "\n",
    "Example 1:\n",
    "\n",
    "Input: nums = [2,7,11,15], target = 9\n",
    "Output: [0,1]\n",
    "Explanation: Because nums[0] + nums[1] == 9, we return [0, 1].\n",
    "Example 2:\n",
    "\n",
    "Input: nums = [3,2,4], target = 6\n",
    "Output: [1,2]\n",
    "Example 3:\n",
    "\n",
    "Input: nums = [3,3], target = 6\n",
    "Output: [0,1]\n",
    " \n",
    "\n",
    "Constraints:\n",
    "\n",
    "2 <= nums.length <= 104\n",
    "-109 <= nums[i] <= 109\n",
    "-109 <= target <= 109\n",
    "Only one valid answer exists.\n",
    " \n",
    "\n",
    "Follow-up: Can you come up with an algorithm that is less than O(n2) time complexity?"
   ],
   "metadata": {
    "collapsed": false
   },
   "id": "2935d51770d89f9c"
  }
 ],
 "metadata": {
  "kernelspec": {
   "display_name": "Python 3",
   "language": "python",
   "name": "python3"
  },
  "language_info": {
   "codemirror_mode": {
    "name": "ipython",
    "version": 2
   },
   "file_extension": ".py",
   "mimetype": "text/x-python",
   "name": "python",
   "nbconvert_exporter": "python",
   "pygments_lexer": "ipython2",
   "version": "2.7.6"
  }
 },
 "nbformat": 4,
 "nbformat_minor": 5
}
